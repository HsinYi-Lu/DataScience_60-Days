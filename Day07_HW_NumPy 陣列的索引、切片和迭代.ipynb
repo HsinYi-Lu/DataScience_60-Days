{
 "cells": [
  {
   "cell_type": "markdown",
   "metadata": {
    "colab_type": "text",
    "id": "P6xk2_jLsvFF"
   },
   "source": [
    "# [作業目標]\n",
    "\n",
    "1. 請比較對一個 100 x 100 * 100 的陣列，使用不同方法對每一個元素 +1 的時間比較。\n",
    "\n",
    "2. 如何從一個陣列中，找出出現頻率最高的數值與位置？\n",
    "\n",
    "3. 如何利用 list(...) 實現 a.tolist() 的效果？試著用程式實作。\n"
   ]
  },
  {
   "cell_type": "markdown",
   "metadata": {
    "colab_type": "text",
    "id": "uXGll28asvFS"
   },
   "source": [
    "# 作業 "
   ]
  },
  {
   "cell_type": "markdown",
   "metadata": {},
   "source": [
    "### 1. 請比較對一個 100 x 100 x 100 的陣列，使用不同方法對每一個元素 +1 的時間比較。\n",
    "\n",
    "\n"
   ]
  },
  {
   "cell_type": "code",
   "execution_count": 3,
   "metadata": {},
   "outputs": [],
   "source": [
    "import numpy as np"
   ]
  },
  {
   "cell_type": "code",
   "execution_count": 9,
   "metadata": {
    "colab": {},
    "colab_type": "code",
    "id": "5QrYoyNWsvFS"
   },
   "outputs": [],
   "source": [
    "Z = np.random.randint(0, 10, 1000000).reshape(100, 100, 100)"
   ]
  },
  {
   "cell_type": "code",
   "execution_count": 14,
   "metadata": {},
   "outputs": [
    {
     "name": "stdout",
     "output_type": "stream",
     "text": [
      "37.1 ns ± 10.3 ns per loop (mean ± std. dev. of 7 runs, 10 loops each)\n",
      "[[[5 9 5 ... 6 1 3]\n",
      "  [6 3 1 ... 7 7 9]\n",
      "  [3 7 9 ... 9 3 4]\n",
      "  ...\n",
      "  [7 0 7 ... 0 3 4]\n",
      "  [0 9 8 ... 0 3 2]\n",
      "  [7 3 2 ... 7 1 7]]\n",
      "\n",
      " [[6 3 8 ... 6 3 6]\n",
      "  [2 8 4 ... 6 1 5]\n",
      "  [4 3 3 ... 9 2 4]\n",
      "  ...\n",
      "  [5 2 5 ... 5 2 9]\n",
      "  [2 5 6 ... 6 5 4]\n",
      "  [6 6 9 ... 4 4 0]]\n",
      "\n",
      " [[9 9 2 ... 8 6 5]\n",
      "  [3 3 7 ... 1 8 8]\n",
      "  [3 8 7 ... 8 6 3]\n",
      "  ...\n",
      "  [6 9 9 ... 4 7 4]\n",
      "  [3 2 0 ... 9 5 6]\n",
      "  [4 0 0 ... 4 1 9]]\n",
      "\n",
      " ...\n",
      "\n",
      " [[2 2 5 ... 3 5 6]\n",
      "  [8 3 7 ... 8 0 7]\n",
      "  [9 2 3 ... 5 5 5]\n",
      "  ...\n",
      "  [6 6 4 ... 8 7 7]\n",
      "  [5 7 7 ... 2 5 3]\n",
      "  [6 2 0 ... 6 3 4]]\n",
      "\n",
      " [[3 5 1 ... 2 1 6]\n",
      "  [1 9 1 ... 2 5 5]\n",
      "  [4 3 4 ... 6 9 9]\n",
      "  ...\n",
      "  [0 8 4 ... 4 2 0]\n",
      "  [6 7 1 ... 1 9 4]\n",
      "  [3 7 7 ... 0 9 5]]\n",
      "\n",
      " [[8 9 3 ... 5 8 1]\n",
      "  [9 3 5 ... 1 7 4]\n",
      "  [2 2 9 ... 8 8 3]\n",
      "  ...\n",
      "  [9 5 5 ... 7 9 2]\n",
      "  [3 4 7 ... 5 2 9]\n",
      "  [3 9 5 ... 2 8 0]]]\n"
     ]
    }
   ],
   "source": [
    "%timeit -n 10 a = 2\n",
    "\n",
    "print (Z)\n",
    "\n",
    "for i in Z:\n",
    "    for j in i:\n",
    "        for k in j:\n",
    "            i = i + 1"
   ]
  },
  {
   "cell_type": "code",
   "execution_count": 15,
   "metadata": {},
   "outputs": [
    {
     "name": "stdout",
     "output_type": "stream",
     "text": [
      "38.6 ns ± 9.9 ns per loop (mean ± std. dev. of 7 runs, 10 loops each)\n",
      "\n"
     ]
    }
   ],
   "source": [
    "%timeit -n 10 a = 2\n",
    "\n",
    "for i in Z.flat:\n",
    "    i = i+1"
   ]
  },
  {
   "cell_type": "code",
   "execution_count": 13,
   "metadata": {
    "scrolled": false
   },
   "outputs": [
    {
     "name": "stdout",
     "output_type": "stream",
     "text": [
      "81.4 ns ± 8.33 ns per loop (mean ± std. dev. of 7 runs, 10 loops each)\n"
     ]
    }
   ],
   "source": [
    "%timeit -n 10 a = 2\n",
    "\n",
    "for i in np.nditer(Z):\n",
    "    i = i+1"
   ]
  },
  {
   "cell_type": "markdown",
   "metadata": {},
   "source": [
    "### 2. 如何從一個陣列中，找出出現頻率最高的數值與位置？\n"
   ]
  },
  {
   "cell_type": "code",
   "execution_count": 4,
   "metadata": {
    "scrolled": true
   },
   "outputs": [
    {
     "name": "stdout",
     "output_type": "stream",
     "text": [
      "[5 9 4 3 3 2 9 3 8 3 5 0 5 8 7 6 1 7 5 5 3 9 9 4 2 3 4 8 5 2 3 1 3 1 0 0 5\n",
      " 8 3 1 6 1 6 5 0 2 9 4 6 6]\n",
      "3\n",
      "(array([ 3,  4,  7,  9, 20, 25, 30, 32, 38], dtype=int64),)\n",
      "[ 3  4  7  9 20 25 30 32 38]\n"
     ]
    }
   ],
   "source": [
    "A = np.random.randint(0,10,50)\n",
    "print(A)\n",
    "B = (np.bincount(A).argmax())\n",
    "print(B)\n",
    "print(np.where(A == B))# np.where()[0] 表示行索引，np.where()[1]表示列索引\n",
    "print(np.where(A == B)[0]) #它大致說的是bin的數量比x中的最大值大1，每個bin給出了索引值在x中出現的次數，下面以例項說明\n"
   ]
  },
  {
   "cell_type": "markdown",
   "metadata": {},
   "source": [
    "### 3. 如何利用 list(...) 實現 a.tolist() 的效果？試著用程式實作。\n"
   ]
  },
  {
   "cell_type": "code",
   "execution_count": 19,
   "metadata": {},
   "outputs": [
    {
     "name": "stdout",
     "output_type": "stream",
     "text": [
      "[9, 5, 6, 7, 6, 8]\n",
      "[9, 5, 6, 7, 6, 8]\n",
      "[[0, 4, 1, 1], [7, 7, 1, 5], [5, 4, 9, 1]]\n",
      "[array([0, 4, 1, 1]), array([7, 7, 1, 5]), array([5, 4, 9, 1])]\n",
      "[[[9, 5], [1, 4], [4, 8]], [[7, 9], [1, 2], [5, 1]]]\n",
      "[array([[9, 5],\n",
      "       [1, 4],\n",
      "       [4, 8]]), array([[7, 9],\n",
      "       [1, 2],\n",
      "       [5, 1]])]\n"
     ]
    }
   ],
   "source": [
    "a = np.random.randint(10, size=6) \n",
    "print(a.tolist())\n",
    "print(list(a))\n",
    "\n",
    "\n",
    "b = np.random.randint(10, size=(3,4)) \n",
    "print(b.tolist())\n",
    "print(list(b))\n",
    "\n",
    "\n",
    "c = np.random.randint(10, size=(2,3,2)) \n",
    "print(c.tolist())\n",
    "print(list(c))"
   ]
  },
  {
   "cell_type": "code",
   "execution_count": null,
   "metadata": {},
   "outputs": [],
   "source": [
    "### 進階題目\n",
    "\n",
    "作業目標\n",
    "活用矩陣運算，實做線性代數\n",
    "作業重點\n",
    "線性代數公式應用\n",
    "矩陣相乘維度需要對好，例如:2X3矩陣乘上3X5矩陣得到2X5矩陣\n",
    "\n",
    "題目:\n",
    "array1 = np.array([[10, 8], [3, 5]])\n",
    "\n",
    "運用上列array計算反矩陣，乘上原矩陣，並觀察是否為單位矩陣?\n",
    "運用上列array計算特徵值、特徵向量?\n",
    "運用上列array計算SVD?"
   ]
  },
  {
   "cell_type": "code",
   "execution_count": 1,
   "metadata": {},
   "outputs": [],
   "source": [
    "import numpy as np"
   ]
  },
  {
   "cell_type": "code",
   "execution_count": 2,
   "metadata": {},
   "outputs": [
    {
     "name": "stdout",
     "output_type": "stream",
     "text": [
      "[[ 0.19230769 -0.30769231]\n",
      " [-0.11538462  0.38461538]]\n",
      "[[1. 0.]\n",
      " [0. 1.]]\n"
     ]
    }
   ],
   "source": [
    "#1. 運用上列array計算反矩陣，乘上原矩陣，並觀察是否為單位矩陣?\n",
    "array1 = np.array([[10, 8], [3, 5]])\n",
    "array2 = np.linalg.inv(array1)\n",
    "print(array2)\n",
    "print(np.dot(array1,array2))\n"
   ]
  },
  {
   "cell_type": "code",
   "execution_count": 3,
   "metadata": {},
   "outputs": [
    {
     "name": "stdout",
     "output_type": "stream",
     "text": [
      "\n",
      " eigvalue =  [13.  2.]\n",
      "\n",
      " eigvector = \n",
      " [[ 0.93632918 -0.70710678]\n",
      " [ 0.35112344  0.70710678]]\n"
     ]
    }
   ],
   "source": [
    "#2. 運用上列array計算特徵值、特徵向量?\n",
    "eigvalue, eigvector = np.linalg.eig(array1)\n",
    "print('\\n','eigvalue = ',eigvalue)\n",
    "print('\\n','eigvector = \\n',eigvector)\n"
   ]
  },
  {
   "cell_type": "code",
   "execution_count": 4,
   "metadata": {},
   "outputs": [
    {
     "name": "stdout",
     "output_type": "stream",
     "text": [
      "\n",
      " SVD = \n",
      " (array([[-0.91663818, -0.39971796],\n",
      "       [-0.39971796,  0.91663818]]), array([13.94721714,  1.86417116]), array([[-0.74319741, -0.6690722 ],\n",
      "       [-0.6690722 ,  0.74319741]]))\n"
     ]
    }
   ],
   "source": [
    "#3. 運用上列array計算SVD?\n",
    "print('\\n','SVD = \\n',np.linalg.svd(array1))"
   ]
  },
  {
   "cell_type": "code",
   "execution_count": null,
   "metadata": {},
   "outputs": [],
   "source": []
  }
 ],
 "metadata": {
  "colab": {
   "name": "Day_023_HW.ipynb",
   "provenance": []
  },
  "kernelspec": {
   "display_name": "Python 3",
   "language": "python",
   "name": "python3"
  },
  "language_info": {
   "codemirror_mode": {
    "name": "ipython",
    "version": 3
   },
   "file_extension": ".py",
   "mimetype": "text/x-python",
   "name": "python",
   "nbconvert_exporter": "python",
   "pygments_lexer": "ipython3",
   "version": "3.8.3"
  }
 },
 "nbformat": 4,
 "nbformat_minor": 1
}
