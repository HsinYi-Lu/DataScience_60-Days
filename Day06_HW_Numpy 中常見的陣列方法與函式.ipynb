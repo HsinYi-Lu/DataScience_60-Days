{
 "cells": [
  {
   "cell_type": "markdown",
   "metadata": {
    "id": "P6xk2_jLsvFF"
   },
   "source": [
    "# [作業目標]\n",
    "\n",
    "1. [簡答題] 請問下列這三種方法有什麼不同？\n",
    "\n",
    "```\n",
    "print(a.sum()) \n",
    "print(np.sum(a))\n",
    "print(sum(a)) \n",
    "```\n",
    "\n",
    "2. 請對一個 5x5 的隨機矩陣作正規化的操作。\n",
    "\n",
    "3. 請建立一個長度等於 10 的正整數向量，並且將其中的最大值改成 -1。\n"
   ]
  },
  {
   "cell_type": "markdown",
   "metadata": {
    "id": "uXGll28asvFS"
   },
   "source": [
    "# 作業 "
   ]
  },
  {
   "cell_type": "markdown",
   "metadata": {
    "id": "lbz8VjL6jxyL"
   },
   "source": [
    "### 1. [簡答題] 請問下列這三種方法有什麼不同？\n",
    "\n",
    "```\n",
    "print(a.sum()) \n",
    "print(np.sum(a))\n",
    "print(sum(a)) \n",
    "```\n",
    "\n"
   ]
  },
  {
   "cell_type": "code",
   "execution_count": 15,
   "metadata": {
    "id": "5QrYoyNWsvFS",
    "outputId": "e9e14d36-38ce-4ce5-edf2-3c7b129db580"
   },
   "outputs": [
    {
     "name": "stdout",
     "output_type": "stream",
     "text": [
      "8\n",
      "8\n",
      "8\n",
      "7\n",
      "7\n",
      "6\n",
      "6\n",
      "14\n",
      "14\n",
      "[5 4 5]\n"
     ]
    }
   ],
   "source": [
    "# a.sum()只適用於a為 Array\n",
    "# np.sum(a)適用於a為Array或列表\n",
    "# sum(a)適用於a為一維的列表或任何維度的Array，或當a為二維以上的Array時則會降維\n",
    "\n",
    "import numpy as np \n",
    "\n",
    "# 使用 Array\n",
    "a = np.array((1,3,4))\n",
    "print(a.sum()) \n",
    "print(np.sum(a))\n",
    "print(sum(a))\n",
    "\n",
    "# 使用 Tuple\n",
    "b = (1,2,4)\n",
    "# print(b.sum())  'tuple' object has no attribute 'sum'\n",
    "print(np.sum(b))\n",
    "print(sum(b))\n",
    "\n",
    "# 使用 List \n",
    "c = [1,2,3]\n",
    "# print(c.sum())  'list' object has no attribute 'sum' \n",
    "print(np.sum(c))\n",
    "print(sum(c))\n",
    "\n",
    "# 使用 二維 Array\n",
    "d = np.array([[4,3,4],[1,1,1]])\n",
    "print(d.sum()) \n",
    "print(np.sum(d))\n",
    "print(sum(d))\n"
   ]
  },
  {
   "cell_type": "markdown",
   "metadata": {
    "id": "vVrjBXabjxyS"
   },
   "source": [
    "### 2. 請對一個 5x5 的隨機矩陣作正規化的操作。\n"
   ]
  },
  {
   "cell_type": "code",
   "execution_count": 32,
   "metadata": {
    "id": "ffDRVHs9jxyS",
    "scrolled": true
   },
   "outputs": [
    {
     "name": "stdout",
     "output_type": "stream",
     "text": [
      "[[0.44868987 0.61581938 0.71741897 0.8002104  0.23602041]\n",
      " [0.9638536  0.44981255 0.87162682 0.35290166 0.18083407]\n",
      " [0.46080463 0.98926031 0.46174854 0.26884899 0.77404343]\n",
      " [0.09071324 0.1428292  0.31822261 0.04182994 0.97170749]\n",
      " [0.73867709 0.49370749 0.62707272 0.83910177 0.27573884]]\n",
      "[[0.42943518 0.60583813 0.71307513 0.80046037 0.20496543]\n",
      " [0.97318356 0.43062015 0.87583944 0.32833202 0.14671699]\n",
      " [0.44222215 1.         0.44321843 0.23961555 0.77284148]\n",
      " [0.05159567 0.10660336 0.29172875 0.         0.98147324]\n",
      " [0.73551278 0.47695067 0.61771588 0.84150969 0.2468877 ]]\n",
      "[[0.14994854 0.20580188 0.23975564 0.26742387 0.07887612]\n",
      " [0.32211211 0.15032373 0.29129066 0.11793689 0.06043329]\n",
      " [0.15399719 0.33060282 0.15431264 0.08984717 0.25867908]\n",
      " [0.03031563 0.04773237 0.10634743 0.01397923 0.32473681]\n",
      " [0.24685993 0.16499307 0.20956265 0.28042105 0.0921497 ]]\n"
     ]
    }
   ],
   "source": [
    "# 記得先 Import 正確的套件\n",
    "\n",
    "import matplotlib.pyplot as plt\n",
    "A = np.random.random((5, 5))\n",
    "B = A.copy()\n",
    "B = (B-B.min())/(B.max()-B.min())\n",
    "print(A,B,sep='\\n')\n",
    "\n",
    "#normalized_v = A/np.linalg.norm(A)\n",
    "#print(normalized_v)"
   ]
  },
  {
   "cell_type": "markdown",
   "metadata": {
    "id": "Ptc3ZrNQjxyU"
   },
   "source": [
    "### 3. 請建立一個長度等於 10 的正整數向量，並且將其中的最大值改成 -1。\n"
   ]
  },
  {
   "cell_type": "code",
   "execution_count": 29,
   "metadata": {
    "id": "Yu1kbLxojxyU",
    "outputId": "d323e754-178a-46ae-e15e-98275ae220dd"
   },
   "outputs": [
    {
     "name": "stdout",
     "output_type": "stream",
     "text": [
      "[ 8 10  3  5  9  2 18  4  2 16]\n",
      "[ 8 10  3  5  9  2 -1  4  2 16]\n"
     ]
    }
   ],
   "source": [
    "arr = np.random.default_rng().integers(1,20,size=(10))\n",
    "arr2 = arr.copy()\n",
    "arr2[arr2.argmax()]=-1\n",
    "print(arr,arr2,sep='\\n')"
   ]
  },
  {
   "cell_type": "code",
   "execution_count": null,
   "metadata": {
    "id": "IoPlZnZgjxyV"
   },
   "outputs": [],
   "source": []
  },
  {
   "cell_type": "code",
   "execution_count": null,
   "metadata": {
    "id": "V5bMfGR_jxyV"
   },
   "outputs": [],
   "source": []
  }
 ],
 "metadata": {
  "colab": {
   "name": "06 Homework_維元.ipynb",
   "provenance": []
  },
  "kernelspec": {
   "display_name": "Python 3",
   "language": "python",
   "name": "python3"
  },
  "language_info": {
   "codemirror_mode": {
    "name": "ipython",
    "version": 3
   },
   "file_extension": ".py",
   "mimetype": "text/x-python",
   "name": "python",
   "nbconvert_exporter": "python",
   "pygments_lexer": "ipython3",
   "version": "3.8.3"
  }
 },
 "nbformat": 4,
 "nbformat_minor": 1
}
