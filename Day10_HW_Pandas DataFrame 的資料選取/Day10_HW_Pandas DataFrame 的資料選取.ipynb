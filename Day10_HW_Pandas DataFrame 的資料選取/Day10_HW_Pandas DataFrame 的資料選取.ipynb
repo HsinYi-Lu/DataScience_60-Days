{
 "cells": [
  {
   "cell_type": "markdown",
   "metadata": {
    "colab_type": "text",
    "id": "P6xk2_jLsvFF"
   },
   "source": [
    "# [作業目標]\n",
    "\n",
    "1. [簡答題] 請問下列四種不同的 DataFrame 選取結果有什麼差異？\n",
    "\n",
    "```\n",
    "df.loc[ '2013-01-01', 'A'] \n",
    "df.loc[ '2013-01-01', ['A', 'B'] ] \n",
    "df.loc[ '2013-01-01':'2013-01-02', 'A' ] \n",
    "df.loc[ '2013-01-01':'2013-01-05', 'A':'C'] \n",
    "```\n",
    "\n",
    "\n",
    "2. 請根據提供的資料，選擇出下列的要求：\n",
    "\n",
    "```\n",
    "# - select the first 3 rows.\n",
    "# - select the odd rows. (index = 1, 3, 5)\n",
    "# - select the last 2 columns.\n",
    "# - select the even columns. (index = 0, 2, 4)\n",
    "```\n",
    "\n",
    "3. 請根據提供的資料，選擇出下列的要求：\n",
    "\n",
    "```\n",
    "# - 1. filtered by first column > 20?\n",
    "# - 2. filtered by first column + second column > 50\n",
    "# - 3. filtered by first column < 30 or second column > 30\n",
    "# - 4. filtered by total sum of row > 100\n",
    "```"
   ]
  },
  {
   "cell_type": "markdown",
   "metadata": {
    "colab_type": "text",
    "id": "uXGll28asvFS"
   },
   "source": [
    "# 作業 "
   ]
  },
  {
   "cell_type": "markdown",
   "metadata": {},
   "source": [
    "### 1. [簡答題] 請問下列四種不同的 DataFrame 選取結果有什麼差異？\n",
    "\n",
    "```\n",
    "df.loc[ '2013-01-01', 'A'] \n",
    "df.loc[ '2013-01-01', ['A', 'B'] ] \n",
    "df.loc[ '2013-01-01':'2013-01-02', 'A' ] \n",
    "df.loc[ '2013-01-01':'2013-01-05', 'A':'C'] \n",
    "```\n",
    "\n",
    "\n",
    "\n"
   ]
  },
  {
   "cell_type": "code",
   "execution_count": 5,
   "metadata": {
    "colab": {},
    "colab_type": "code",
    "id": "5QrYoyNWsvFS"
   },
   "outputs": [],
   "source": [
    "\n",
    "# df.loc[ '2013-01-01', 'A'] \n",
    "# 時間(index)為2013-01-01，欄位為A的值\n",
    "\n",
    "# df.loc[ '2013-01-01', ['A', 'B'] ] \n",
    "# 時間(index)為2013-01-01，欄位為A與B的值\n",
    "\n",
    "# df.loc[ '2013-01-01':'2013-01-02', 'A' ] \n",
    "# 時間(index)為2013-01-01 ~ 2013-01-02，欄位為A的值 \n",
    "\n",
    "# df.loc[ '2013-01-01':'2013-01-05', 'A':'C']\n",
    "# 時間(index)為2013-01-01 ~ 2013-01-05，欄位為A ~ C的值\n"
   ]
  },
  {
   "cell_type": "markdown",
   "metadata": {},
   "source": [
    "### 2. 請根據提供的資料，選擇出下列的要求：\n",
    "\n",
    "```\n",
    "# - select the first 3 rows.\n",
    "# - select the odd rows. (index = 1, 3, 5)\n",
    "# - select the last 2 columns.\n",
    "# - select the even columns. (index = 0, 2, 4)\n",
    "```\n"
   ]
  },
  {
   "cell_type": "code",
   "execution_count": 8,
   "metadata": {},
   "outputs": [],
   "source": [
    "# 記得先 Import 正確的套件\n",
    "import numpy as np\n",
    "import pandas as pd\n",
    "\n"
   ]
  },
  {
   "cell_type": "code",
   "execution_count": 38,
   "metadata": {
    "colab": {},
    "colab_type": "code",
    "id": "e1gVI0tvsvFY"
   },
   "outputs": [
    {
     "name": "stdout",
     "output_type": "stream",
     "text": [
      "       col1      col2      col3\n",
      "0 -0.923194  0.919595 -0.979136\n",
      "1 -2.332205  0.003981 -3.817418\n",
      "2  0.608472  2.421287  0.510930\n",
      "3  0.568206 -0.441316 -0.528106\n",
      "4  2.075430  0.641915  0.961196\n",
      "5  0.877684 -1.571005 -0.816160\n",
      "\n",
      " the first 3 rows \n",
      "        col1      col2      col3\n",
      "0 -0.923194  0.919595 -0.979136\n",
      "1 -2.332205  0.003981 -3.817418\n",
      "2  0.608472  2.421287  0.510930\n",
      "\n",
      " the odd rows \n",
      "        col1      col2      col3\n",
      "1 -2.332205  0.003981 -3.817418\n",
      "3  0.568206 -0.441316 -0.528106\n",
      "5  0.877684 -1.571005 -0.816160\n",
      "\n",
      " the last 2 columns \n",
      "        col2      col3\n",
      "0  0.919595 -0.979136\n",
      "1  0.003981 -3.817418\n",
      "2  2.421287  0.510930\n",
      "3 -0.441316 -0.528106\n",
      "4  0.641915  0.961196\n",
      "5 -1.571005 -0.816160\n",
      "\n",
      " the even rows \n",
      "        col1      col2      col3\n",
      "0 -0.923194  0.919595 -0.979136\n",
      "2  0.608472  2.421287  0.510930\n",
      "4  2.075430  0.641915  0.961196\n"
     ]
    }
   ],
   "source": [
    "df = pd.DataFrame(np.random.randn(6,3),columns=['col1','col2','col3'])\n",
    "print(df)\n",
    "print(\"\\n\",\"the first 3 rows\",\"\\n\",df[0:3])\n",
    "\n",
    "print(\"\\n\",\"the odd rows\",\"\\n\",df.iloc[[1,3,5]])\n",
    "print(\"\\n\",\"the last 2 columns\",\"\\n\",df[['col2','col3']])#如果被挑選的欄位有多個的話，可以用兩層的方式做選取：\n",
    "print(\"\\n\",\"the even rows\",\"\\n\", df.iloc[[0,2,4]])"
   ]
  },
  {
   "cell_type": "markdown",
   "metadata": {},
   "source": [
    "### 3. 請根據提供的資料，選擇出下列的要求：\n",
    "\n",
    "```\n",
    "# - 1. filtered by first column > 20?\n",
    "# - 2. filtered by first column + second column > 50\n",
    "# - 3. filtered by first column < 30 or second column > 30\n",
    "# - 4. filtered by total sum of row > 100\n",
    "```"
   ]
  },
  {
   "cell_type": "code",
   "execution_count": 46,
   "metadata": {},
   "outputs": [
    {
     "name": "stdout",
     "output_type": "stream",
     "text": [
      "     0   1   2   3\n",
      "0   36  25  38  25\n",
      "1   29  33  35  26\n",
      "2   20  28  24  13\n",
      "3   18  27  36  31\n",
      "4   35  31  23  18\n",
      "5   17  13  38  34\n",
      "6   15  32  15  38\n",
      "7   35  33  28  36\n",
      "8   22  17  23  30\n",
      "9   36  21  32  36\n",
      "10  37  15  33  37\n",
      "11  33  23  36  39\n",
      "12  11  11  29  18\n",
      "13  23  31  10  15\n",
      "14  12  24  38  36\n",
      "\n",
      " filtered by first column > 20 \n",
      "      0   1   2   3\n",
      "3   18  27  36  31\n",
      "5   17  13  38  34\n",
      "6   15  32  15  38\n",
      "12  11  11  29  18\n",
      "14  12  24  38  36\n",
      "\n",
      " filtered by first column + second column > 50 \n",
      "      0   1   2   3\n",
      "0   36  25  38  25\n",
      "1   29  33  35  26\n",
      "4   35  31  23  18\n",
      "7   35  33  28  36\n",
      "9   36  21  32  36\n",
      "10  37  15  33  37\n",
      "11  33  23  36  39\n",
      "13  23  31  10  15\n",
      "\n",
      " first column < 30 or second column > 30 \n",
      "      0   1   2   3\n",
      "1   29  33  35  26\n",
      "2   20  28  24  13\n",
      "3   18  27  36  31\n",
      "4   35  31  23  18\n",
      "5   17  13  38  34\n",
      "6   15  32  15  38\n",
      "7   35  33  28  36\n",
      "8   22  17  23  30\n",
      "12  11  11  29  18\n",
      "13  23  31  10  15\n",
      "14  12  24  38  36\n",
      "\n",
      " filtered by total sum of row > 100 \n",
      "      0   1   2   3\n",
      "0   36  25  38  25\n",
      "1   29  33  35  26\n",
      "3   18  27  36  31\n",
      "4   35  31  23  18\n",
      "5   17  13  38  34\n",
      "7   35  33  28  36\n",
      "9   36  21  32  36\n",
      "10  37  15  33  37\n",
      "11  33  23  36  39\n",
      "14  12  24  38  36\n"
     ]
    }
   ],
   "source": [
    "df = pd.DataFrame(np.random.randint(10, 40, 60).reshape(-1, 4))\n",
    "print(df)\n",
    "\n",
    "print(\"\\n\",\"filtered by first column > 20\",\"\\n\",df[df[0]<20] )\n",
    "print(\"\\n\",\"filtered by first column + second column > 50\",\"\\n\",df[df[0]+df[1]>50] )\n",
    "print(\"\\n\",\"first column < 30 or second column > 30\",\"\\n\",df[(df[0]<30)|(df[1] > 30)])\n",
    "print(\"\\n\",\"filtered by total sum of row > 100\",\"\\n\",df[np.sum(df, axis = 1) > 100])"
   ]
  },
  {
   "cell_type": "code",
   "execution_count": null,
   "metadata": {},
   "outputs": [],
   "source": []
  },
  {
   "cell_type": "code",
   "execution_count": null,
   "metadata": {},
   "outputs": [],
   "source": []
  },
  {
   "cell_type": "code",
   "execution_count": null,
   "metadata": {},
   "outputs": [],
   "source": []
  }
 ],
 "metadata": {
  "colab": {
   "name": "Day_023_HW.ipynb",
   "provenance": []
  },
  "kernelspec": {
   "display_name": "Python 3",
   "language": "python",
   "name": "python3"
  },
  "language_info": {
   "codemirror_mode": {
    "name": "ipython",
    "version": 3
   },
   "file_extension": ".py",
   "mimetype": "text/x-python",
   "name": "python",
   "nbconvert_exporter": "python",
   "pygments_lexer": "ipython3",
   "version": "3.8.3"
  }
 },
 "nbformat": 4,
 "nbformat_minor": 1
}
